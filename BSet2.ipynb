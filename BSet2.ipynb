{
 "cells": [
  {
   "cell_type": "markdown",
   "metadata": {},
   "source": [
    "# Building Set 2 - More Frequency Domain, the SigSys Abstraction"
   ]
  },
  {
   "cell_type": "code",
   "execution_count": 11,
   "metadata": {
    "collapsed": false
   },
   "outputs": [],
   "source": [
    "import sys\n",
    "sys.path.append(\"code\") # for thinkdsp code\n",
    "\n",
    "from __future__ import print_function, division\n",
    "\n",
    "import thinkdsp\n",
    "import thinkplot\n",
    "\n",
    "import numpy as np\n",
    "\n",
    "import sympy\n",
    "\n",
    "import pandas\n",
    "\n",
    "import warnings\n",
    "warnings.filterwarnings('ignore')\n",
    "\n",
    "from ipywidgets import interact, interactive, fixed\n",
    "import ipywidgets as widgets\n",
    "from IPython.display import display\n",
    "\n",
    "%matplotlib inline"
   ]
  },
  {
   "cell_type": "code",
   "execution_count": 59,
   "metadata": {
    "collapsed": false
   },
   "outputs": [
    {
     "name": "stdout",
     "output_type": "stream",
     "text": [
      "Please be patient whilst the file is written\n",
      "BSet2Files/handel.wav written\n"
     ]
    }
   ],
   "source": [
    "# https://gist.github.com/Pretz/1773870\n",
    "\n",
    "import wave\n",
    "import numpy\n",
    "import struct\n",
    "import sys\n",
    "import csv\n",
    "\n",
    "def write_wav(data, filename, framerate, amplitude):\n",
    "    wavfile = wave.open(filename, \"w\")\n",
    "    nchannels = 1\n",
    "    sampwidth = 2\n",
    "    framerate = framerate\n",
    "    nframes = len(data)\n",
    "    comptype = \"NONE\"\n",
    "    compname = \"not compressed\"\n",
    "    wavfile.setparams((nchannels,\n",
    "                        sampwidth,\n",
    "                        framerate,\n",
    "                        nframes,\n",
    "                        comptype,\n",
    "                        compname))\n",
    "    print(\"Please be patient whilst the file is written\")\n",
    "    frames = []\n",
    "    for s in data:\n",
    "        mul = int(s * amplitude)\n",
    "        # print \"s: %f mul: %d\" % (s, mul)\n",
    "        frames.append(struct.pack('h', mul))\n",
    "    # frames = (struct.pack('h', int(s*self.amp)) for s in sine_list)\n",
    "\n",
    "    frames = b''.join(frames)\n",
    "    wavfile.writeframes(frames)\n",
    "    wavfile.close()\n",
    "    print(\"%s written\" %(filename))\n",
    "\n",
    "fname = 'BSet2Files/handel.csv'\n",
    "\n",
    "data = []\n",
    "\n",
    "for value in csv.reader(open(fname, 'U'), delimiter=','):\n",
    "    try:\n",
    "        data.append(float(value[0]))\n",
    "    except ValueError:\n",
    "        pass # Just skip it\n",
    "arr = numpy.array(data)\n",
    "# Normalize data\n",
    "arr /= numpy.max(numpy.abs(data))\n",
    "filename_head, extension = fname.rsplit(\".\", 1)\n",
    "write_wav(arr, \"BSet2Files/handel.wav\", 8192, 32700)\n",
    "\n"
   ]
  },
  {
   "cell_type": "markdown",
   "metadata": {},
   "source": [
    "## Frequency-Domain Analysis\n",
    "### Discrete-time Fourier Transform (DTFT) (appx 3.5 hours including reading and exercises)\n",
    "\n",
    "In this section, we are going to develop the Discrete-Time Fourier Transform (DTFT), which will provide better frequency resolution than the DFT, and serve as a bridge to the CT Fourier transform (CTFT), enabling us to do frequency analysis on continuous signals."
   ]
  },
  {
   "cell_type": "markdown",
   "metadata": {},
   "source": [
    "The Discrete-Time Fourier Transform (DTFT) of a DT signal is defined for any  angular frequency $\\Omega$ radians per sample as follows\n",
    "\n",
    "\\begin{align}\n",
    "X(\\Omega) = \\sum_{n=-\\infty}^\\infty x[n]e^{-j\\Omega n}$\n",
    "\\end{align}\n",
    "\n",
    "\n",
    "The DTFT of $x[n]$, denoted by $X(\\Omega)$ tells us \"how much\" in magnitude and phase, of a complex exponential $e^{j\\Omega n}$ is present in the signal $x[n]$. Compared to the DFT, the DTFT evaluates the frequency content in $x[n]$ at a continuum of frequencies $\\Omega$. $\\Omega$ here is in units of radians/sample. "
   ]
  },
  {
   "cell_type": "markdown",
   "metadata": {},
   "source": [
    "Since $\\Omega$ can take a continuum of values, the inverse transform cannot take the form of a summation. The Inverse DTFT takes the form of an integral over a $2\\pi$ interval. The IDFT is defined as follows\n",
    "\n",
    "\\begin{align}\n",
    "x[n] = \\frac{1}{2\\pi}\\int_{-\\pi}^{\\pi} X(\\Omega) e^{j\\Omega n} d\\Omega\n",
    "\\end{align}\n",
    "\n",
    "$x[n]$ is therefore made up of a dense sum (i.e. an integral) of complex exponentials (frequency components), where the frequency component corresponding to $e^{j\\Omega n}$ is weighted by $X(\\Omega)$. In general $X(\\Omega)$ can be complex.\n",
    "\n",
    "The DTFT has a number of useful properties which are carried over from the DFT.  If $W(\\Omega)$ is the DTFT of $w[n]$, $X(\\Omega)$ is the DTFT of $x[n]$,  $Y(\\Omega)$ is the DTFT of $y[n]$,  we have the following properties\n",
    "\n",
    "\n",
    "- If $y[n] = x[n]+w[n]$, then $Y(\\Omega) = X(\\Omega) + W(\\Omega)$. This property enables us to decompose a signal into the sum of simpler signals, perform the DTFT on the simpler signals, and re-assemble them. \n",
    "- If $y[n] = x[n-n_0]$, then $Y(\\Omega) = e^{-j\\Omega n_0}X(\\Omega)$. This property is useful in analyzing the effects of difference equations in the frequency domain. \n",
    "- If $y[n] = x[n]e^{j\\Omega_0 n}$, then $Y(\\Omega) = X(\\Omega-\\Omega_0)$. This property is useful for moving things around in frequency, like what we did in class on Monday. \n",
    "\n",
    "\n",
    "The following example of a moving-average filter helps illustrate how the DTFT can be used to do understand the effects of a difference equation in the frequency domain."
   ]
  },
  {
   "cell_type": "markdown",
   "metadata": {},
   "source": [
    "### 1.\n",
    "Suppose that we have a signal $x[n]$. A 3-point moving average of this signal is given by  $y[n]$, which is defined as follows\n",
    "\n",
    "\\begin{align}\n",
    "y[n] = \\frac13(x[n+1]+x[n]+x[n-1]).\n",
    "\\end{align}\n",
    "\n",
    "The result of the moving average at time $n$ is the average of the original signal at the current time, one sample ahead, and one sample before. The moving average filter has the effect of smoothing out a signal."
   ]
  },
  {
   "cell_type": "markdown",
   "metadata": {},
   "source": [
    "(a) Using the properties of the DTFT in the bullet points above, find the DTFT of $y[n]$, denoted by $Y(\\Omega)$, in terms of $X(\\Omega)$. Simplify your expression using $\\cos\\theta =\\frac12 e^{j\\theta}+\\frac12 e^{-j\\theta}$."
   ]
  },
  {
   "cell_type": "markdown",
   "metadata": {},
   "source": [
    "<b>\n",
    "$y[n] = \\frac13(x[n+1]+x[n]+x[n-1]$\n",
    "\n",
    "</b>"
   ]
  },
  {
   "cell_type": "markdown",
   "metadata": {},
   "source": [
    "(b) How is the frequency content of $y[n]$ related to the frequency content of $x[n]$?\n",
    "\n",
    "Hint: think about how $Y(\\Omega)$ is related to  $X(\\Omega)$ at $\\Omega = 0$ (low frequencies) vs $\\Omega = \\pi$ (high frequencies)."
   ]
  },
  {
   "cell_type": "code",
   "execution_count": null,
   "metadata": {
    "collapsed": true
   },
   "outputs": [],
   "source": []
  },
  {
   "cell_type": "markdown",
   "metadata": {},
   "source": [
    "(c) How might you actually apply  the moving average filter to a given vector?  In other words, in MATLAB, how would you operate on a vector $x[n]$ to produce $y[n]$?  Think about  three different approaches:\n",
    "\n",
    "i. Use a for loop.\n",
    "\n",
    "ii. Use vector indices and vector addition.\n",
    "\n",
    "iii. Use a matrix multiply.\n",
    "\n",
    "Choose one that makes sense to you, and implement it.  Note that you'll have to think about how to deal with the terms at the edges: there is not a $n-1$ term if $n=0$!"
   ]
  },
  {
   "cell_type": "code",
   "execution_count": 46,
   "metadata": {
    "collapsed": false
   },
   "outputs": [
    {
     "name": "stdout",
     "output_type": "stream",
     "text": [
      "0\n",
      "1\n"
     ]
    }
   ],
   "source": [
    "for n in range(2):\n",
    "    print(n)"
   ]
  },
  {
   "cell_type": "markdown",
   "metadata": {},
   "source": [
    "(d) At the MATLAB prompt, type `load handel` to load an audio segment provided with MATLAB,  which you used in the last BSet.  Write code to implement the moving average filter, and apply it to the audio sample in `y`. Using a for loop may be the simplest approach here.\n",
    "\n",
    "(Unfortunately, MATLAB calls this signal `y`, but this will be the input to our moving average filter).  Plot the original signal `y`, and the result of applying the moving average to it on the same axes. Zoom in on a segment of the audio signal to see the effect of the moving average in the time domain. Do you see what you expected to see? Play the original signal and the result of the moving average. Does the filtered signal sound as expected? Please turn in your plots with your answers to the questions."
   ]
  },
  {
   "cell_type": "code",
   "execution_count": 71,
   "metadata": {
    "collapsed": false
   },
   "outputs": [
    {
     "ename": "AttributeError",
     "evalue": "'list' object has no attribute 'real'",
     "output_type": "error",
     "traceback": [
      "\u001b[0;31m---------------------------------------------------------------------------\u001b[0m",
      "\u001b[0;31mAttributeError\u001b[0m                            Traceback (most recent call last)",
      "\u001b[0;32m<ipython-input-71-657a0ec33f3f>\u001b[0m in \u001b[0;36m<module>\u001b[0;34m()\u001b[0m\n\u001b[1;32m     20\u001b[0m \u001b[0mhandel\u001b[0m\u001b[0;34m.\u001b[0m\u001b[0mplot\u001b[0m\u001b[0;34m(\u001b[0m\u001b[0;34m)\u001b[0m\u001b[0;34m\u001b[0m\u001b[0m\n\u001b[1;32m     21\u001b[0m \u001b[0;34m\u001b[0m\u001b[0m\n\u001b[0;32m---> 22\u001b[0;31m \u001b[0mhandel\u001b[0m\u001b[0;34m.\u001b[0m\u001b[0mmake_audio\u001b[0m\u001b[0;34m(\u001b[0m\u001b[0;34m)\u001b[0m\u001b[0;34m\u001b[0m\u001b[0m\n\u001b[0m",
      "\u001b[0;32m/Users/lykos/QEA/code/thinkdsp.py\u001b[0m in \u001b[0;36mmake_audio\u001b[0;34m(self)\u001b[0m\n\u001b[1;32m   1052\u001b[0m         \"\"\"Makes an IPython Audio object.\n\u001b[1;32m   1053\u001b[0m         \"\"\"\n\u001b[0;32m-> 1054\u001b[0;31m         \u001b[0maudio\u001b[0m \u001b[0;34m=\u001b[0m \u001b[0mAudio\u001b[0m\u001b[0;34m(\u001b[0m\u001b[0mdata\u001b[0m\u001b[0;34m=\u001b[0m\u001b[0mself\u001b[0m\u001b[0;34m.\u001b[0m\u001b[0mys\u001b[0m\u001b[0;34m.\u001b[0m\u001b[0mreal\u001b[0m\u001b[0;34m,\u001b[0m \u001b[0mrate\u001b[0m\u001b[0;34m=\u001b[0m\u001b[0mself\u001b[0m\u001b[0;34m.\u001b[0m\u001b[0mframerate\u001b[0m\u001b[0;34m)\u001b[0m\u001b[0;34m\u001b[0m\u001b[0m\n\u001b[0m\u001b[1;32m   1055\u001b[0m         \u001b[0;32mreturn\u001b[0m \u001b[0maudio\u001b[0m\u001b[0;34m\u001b[0m\u001b[0m\n\u001b[1;32m   1056\u001b[0m \u001b[0;34m\u001b[0m\u001b[0m\n",
      "\u001b[0;31mAttributeError\u001b[0m: 'list' object has no attribute 'real'"
     ]
    },
    {
     "data": {
      "image/png": "[encoded data removed]",
      "text/plain": [
       "<matplotlib.figure.Figure at 0x1238a2390>"
      ]
     },
     "metadata": {},
     "output_type": "display_data"
    }
   ],
   "source": [
    "handel = thinkdsp.read_wave('BSet2Files/handel.wav')\n",
    "\n",
    "dir(handel)\n",
    "\n",
    "handel.plot(color='r')\n",
    "\n",
    "def moving_average(sound):\n",
    "    x = sound.ys\n",
    "    y = [0]\n",
    "    for n in range(1, len(x) - 1):\n",
    "        y.append(1/3 * (x[n + 1] + x[n] + x[n - 1]))\n",
    "    y.append(0)\n",
    "    \n",
    "    sound.ys = y\n",
    "    return sound\n",
    "\n",
    "moving_average(handel)\n",
    "# handel.make_audio()\n",
    "\n",
    "handel.plot()\n",
    "\n"
   ]
  },
  {
   "cell_type": "markdown",
   "metadata": {},
   "source": [
    "(e) On the same axes, plot the magnitude of the DTFT of $x[n]$ and $y[n]$. You can use the following code segment to do this.\n",
    "\n",
    "```\n",
    "X = fft(x); % Take the FFT of x\n",
    "Y = fft(y); % Take the FFT of y\n",
    "Nx = length(x); % Find the length of x\n",
    "Ny = length(y); % Find the length of y\n",
    "% make vectors for the frequency axis points in radians \n",
    "% per sample\n",
    "wx = linspace(-pi, pi*(Nx-1)/Nx, Nx); \n",
    "wy = linspace(-pi, pi*(Ny-1)/Ny, Ny); % shouldn't this be -pi to pi??\n",
    "% plot the magnitudes on the same axes \n",
    "% use fftshift to reorder the FFT\n",
    "plot(wx, fftshift(abs(X)));\n",
    "hold on;\n",
    "plot(wy, fftshift(abs(Y)), 'm'); % shouldn't this be wy and abs(Y)?\n",
    "```\n",
    "\n",
    "Please submit all plots you made, and write a sentence or two explaining qualitatively how the frequency content of the signal before and after the moving average filter is applied."
   ]
  },
  {
   "cell_type": "code",
   "execution_count": null,
   "metadata": {
    "collapsed": true
   },
   "outputs": [],
   "source": []
  },
  {
   "cell_type": "markdown",
   "metadata": {},
   "source": [
    "### 2.\n"
   ]
  },
  {
   "cell_type": "markdown",
   "metadata": {},
   "source": []
  },
  {
   "cell_type": "markdown",
   "metadata": {},
   "source": [
    "## The Sig-Sys Abstraction and Block Diagrams (3.5 hours)\n",
    "\n",
    "You've dealt with a variety of different types of abstraction in the past -- for example, you've represented physical situations using stock and flow diagrams, using free body diagrams, using differential equations, etc.  \n",
    "\n",
    "A key type of abstraction that gets widely used in engineering is the so-called \"sig-sys\" abstraction.  This abstraction says that you can think of things as being broken down into _signals_ (which we discussed a bit last time), and _systems_ which operate on signals (ie., they take signals as input, and produce signals as output).\n",
    "\n",
    "We tend to use \"block diagrams\" to represent the sig-sys abstraction, as we discussed in class.  You're actually quite used to doing this already: you did so for the bad modem. Block diagrams are frequently used in designing and representing systems, from communication systems to control systems. \n",
    "\n",
    "One of the very handy aspects of block diagrams is the extent to which they lend themselves to different _levels of abstraction_ - i.e., you can always  \"drill down\" to ask \"what is the block diagram of that block?\", and you can also always draw a dotted line around a set of blocks and call it a new single block. The ability to express different levels of abstraction conveniently is powerful since different situations in a design process require different levels of granularity. \n",
    "\n",
    "Often, block diagrams can also be translated to hardware and software more directly than mathematical expressions. As such, block diagrams using the SigSys abstraction are powerful tools for the design of real-world systems, and can offer insight that may not be as apparent by examining mathematical relationships alone.  Those of you in PoE will learn to appreciate this fact in a month or so. \n",
    "\n",
    "Lets think first about block diagrams for discrete signals. In the following discussions $x[n]$ represents the input signal, $y[n]$ represents the output signal, $n$ is an integer and represents the time index of the signal. Consider the following relationship between the input and  output."
   ]
  },
  {
   "cell_type": "markdown",
   "metadata": {},
   "source": [
    "\\begin{align}\n",
    "y[n] + ay[n-1] = bx[n]\n",
    "\\end{align}\n",
    "\n",
    "$a$ and $b$ are constant coefficients here. With appropriate choices for $a$ and $b$, this expression can implement a digital filter (you've seen this kind of idea above). The above equation involves three basic operations.\n",
    "\n",
    "- Addition\n",
    "- Multiplication by a coefficient\n",
    "- A delay which takes  $y[n]$ as its input and outputs the previous sample $y[n-1]$."
   ]
  },
  {
   "cell_type": "markdown",
   "metadata": {},
   "source": [
    "### 4.\n",
    "\n",
    "![scan-2](BSet2Files/scan-2.jpg)\n",
    "(c) (updated) the first one, because the second one should sort-of be zero because the noise is hopefully centered around zero, and ehhhhhhhh."
   ]
  },
  {
   "cell_type": "markdown",
   "metadata": {},
   "source": [
    "### 7.\n",
    "Consider a simple model for the balance in the bank account. A certain amount is deposited every month into the account and assume that there are no withdrawals from the account. The balance amount in the account earns interest at a rate of 1% each month, which is calculated every month.  Write the input - output relationship for such a bank account and implement it ung a block diagram. Please indicate clearly which signals are the inputs and outputs in the diagram. "
   ]
  },
  {
   "cell_type": "markdown",
   "metadata": {},
   "source": [
    "    x[n] ---> (+) ------> y[n]\n",
    "               ^     |\n",
    "               |     v\n",
    "              /a\\  [ D ]\n",
    "              ---    |\n",
    "               ^     |\n",
    "               |_____|\n",
    "\n",
    "$a = 0.01$"
   ]
  },
  {
   "cell_type": "markdown",
   "metadata": {},
   "source": [
    "### 8.\n",
    "\n",
    "Consider the circuit described in the Figure below. Apply Kirchoff's voltage law (KVL) to note that \n",
    " \\begin{align}\n",
    " v_{in} (t)-v_R (t)-v_{out} (t)=0 \\\\\n",
    " v_{out}(t) = \\frac1C \\int_{-\\infty}^t i(\\tau) d\\tau\\,.\n",
    " \\end{align}\n",
    "\n",
    "![figure 6](BSet2Files/circuit-1.png)\n",
    "\n",
    "Note that $v_{R}(t)$ is the voltage across the resistor, and $i(\\tau)$ is the current flowing clockwise in the circuit. \n",
    "\n",
    "(a) Find an expression relating $v_{out}$ to $v_{in}$, and draw a block diagram representation of this system."
   ]
  },
  {
   "cell_type": "markdown",
   "metadata": {},
   "source": [
    "<b>\n",
    "$v_{in}(t) = v_{out}(t) + RC\\frac{d}{dt}V_{out}(t)$\n",
    "</b>"
   ]
  },
  {
   "cell_type": "markdown",
   "metadata": {},
   "source": [
    "Depending on how you approached the previous part, you may have come up with the following differential equation relating $v_{in}(t)$ and $v_{out}(t)$.\n",
    "\n",
    "\\begin{align}\n",
    "v_{in}(t)  = v_{out}(t) + RC \\frac{d}{dt}v_{out}(t)\n",
    "\\end{align}\n",
    "\n",
    "By taking the CTFT of each term in the expression above, find the equation relating $V_{in}(\\omega)$ and $V_{out}(\\omega)$. In other words, find the relationship between the input voltage and the output voltage in frequency space. You will need to use the CTFT properties derived in the previous section for this. \n",
    "\n",
    "(b) \n",
    "The ratio of $V_{out}(\\omega)$ to $V_{in}(\\omega)$ is the frequency response of this system (again, you will see more of this later). Plot the magnitude of the frequency response in the range $\\omega = 1$ to $\\omega = 10^4$ radians/second. You should use  logarithmic axes here. You can use $C = 1\\mu F$ and $R = 1k\\Omega$, as nominal values here. Does this picture look familiar?  You will find MATLAB's `loglog` function useful to make a log-log scale plot. \n",
    "\n",
    "\n",
    "<b>\n",
    "$V_{out}(\\omega) = \\frac{1}{1 + RCj\\omega}V_{in}(\\omega)$\n",
    "\n",
    "</b>"
   ]
  },
  {
   "cell_type": "code",
   "execution_count": 79,
   "metadata": {
    "collapsed": false
   },
   "outputs": [
    {
     "data": {
      "image/png": "[encoded data removed]",
      "text/plain": [
       "<matplotlib.figure.Figure at 0x11a56bfd0>"
      ]
     },
     "metadata": {},
     "output_type": "display_data"
    },
    {
     "data": {
      "image/png": "[encoded data removed]",
      "text/plain": [
       "<matplotlib.figure.Figure at 0x11a673be0>"
      ]
     },
     "metadata": {},
     "output_type": "display_data"
    }
   ],
   "source": [
    "from sympy import symbols\n",
    "from sympy.plotting import plot\n",
    "import math\n",
    "\n",
    "R = 1000\n",
    "C = 1e-6\n",
    "\n",
    "v_in = symbols('v_in')\n",
    "\n",
    "v_out = lambda w: 1/(1 + R * C * math.I * w) * v_in\n",
    "\n",
    "v_in = v_out + R*C*(dt)*v_out\n",
    "\n",
    "\n",
    "\n",
    "p2 = plot((v_out, (v_out, 1, 10e4)), xscale='log', yscale='log')\n"
   ]
  },
  {
   "cell_type": "code",
   "execution_count": null,
   "metadata": {
    "collapsed": true
   },
   "outputs": [],
   "source": []
  }
 ],
 "metadata": {
  "kernelspec": {
   "display_name": "Python [Root]",
   "language": "python",
   "name": "Python [Root]"
  },
  "language_info": {
   "codemirror_mode": {
    "name": "ipython",
    "version": 3
   },
   "file_extension": ".py",
   "mimetype": "text/x-python",
   "name": "python",
   "nbconvert_exporter": "python",
   "pygments_lexer": "ipython3",
   "version": "3.5.2"
  }
 },
 "nbformat": 4,
 "nbformat_minor": 0
}
