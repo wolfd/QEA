{
 "cells": [
  {
   "cell_type": "markdown",
   "metadata": {},
   "source": [
    "# LTI\n",
    "\n",
    "Linear Time-Invariant systems\n",
    "\n",
    "\n",
    "System is time invariant if when\n",
    "\\begin{align}\n",
    "x(t)=x(t-t_{0}),\n",
    "y(t)=y(t-t_{0})\n",
    "\\end{align}\n",
    "LTI if it is linear and time invariant\n",
    "\n",
    "x(t)=x_{1}(t) output y(t)=y_{1}(t)\n",
    "x(t)=x_{2}(t) output y(t)=y_{2}(t)\n",
    "\n",
    "System is linear if when $x(t)=a_{1}x_{1}(t)+a_{2}x_{2}(t)$\n",
    "\n",
    "$y(t)=a_{1}y_{1}(t)+a_{2}y_{2}(t)$"
   ]
  },
  {
   "cell_type": "code",
   "execution_count": null,
   "metadata": {
    "collapsed": true
   },
   "outputs": [],
   "source": []
  }
 ],
 "metadata": {
  "anaconda-cloud": {},
  "kernelspec": {
   "display_name": "Python [Root]",
   "language": "python",
   "name": "Python [Root]"
  },
  "language_info": {
   "codemirror_mode": {
    "name": "ipython",
    "version": 3
   },
   "file_extension": ".py",
   "mimetype": "text/x-python",
   "name": "python",
   "nbconvert_exporter": "python",
   "pygments_lexer": "ipython3",
   "version": "3.5.2"
  }
 },
 "nbformat": 4,
 "nbformat_minor": 0
}
